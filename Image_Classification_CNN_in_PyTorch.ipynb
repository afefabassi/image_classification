{
  "nbformat": 4,
  "nbformat_minor": 0,
  "metadata": {
    "colab": {
      "provenance": [],
      "gpuType": "T4"
    },
    "kernelspec": {
      "name": "python3",
      "display_name": "Python 3"
    },
    "language_info": {
      "name": "python"
    },
    "accelerator": "GPU"
  },
  "cells": [
    {
      "cell_type": "code",
      "execution_count": null,
      "metadata": {
        "id": "hBMwS3FCQryK"
      },
      "outputs": [],
      "source": [
        "import numpy as np\n",
        "from PIL import Image\n",
        "\n",
        "import torch\n",
        "import torch.nn as nn\n",
        "import torch.nn.functional as F\n",
        "import torch.optim as optim\n",
        "\n",
        "import torchvision\n",
        "import torchvision.transforms as transforms"
      ]
    },
    {
      "cell_type": "code",
      "source": [
        "transform = transforms.Compose([\n",
        "    transforms.ToTensor(),\n",
        "    transforms.Normalize((0.5, 0.5, 0.5), (0.5, 0.5, 0.5))\n",
        "])"
      ],
      "metadata": {
        "id": "7hBjjwRxRILm"
      },
      "execution_count": null,
      "outputs": []
    },
    {
      "cell_type": "code",
      "source": [
        "train_data = torchvision.datasets.CIFAR10(root='./data', train=True, download=True, transform=transform)\n",
        "test_data = torchvision.datasets.CIFAR10(root='./data', train=False, download=True, transform=transform)"
      ],
      "metadata": {
        "id": "GQAYmyv9ROm8",
        "colab": {
          "base_uri": "https://localhost:8080/"
        },
        "outputId": "0747b921-569a-4bfd-cc48-5542a5b9db21"
      },
      "execution_count": null,
      "outputs": [
        {
          "output_type": "stream",
          "name": "stdout",
          "text": [
            "Downloading https://www.cs.toronto.edu/~kriz/cifar-10-python.tar.gz to ./data/cifar-10-python.tar.gz\n"
          ]
        },
        {
          "output_type": "stream",
          "name": "stderr",
          "text": [
            "100%|██████████| 170M/170M [00:05<00:00, 30.6MB/s]\n"
          ]
        },
        {
          "output_type": "stream",
          "name": "stdout",
          "text": [
            "Extracting ./data/cifar-10-python.tar.gz to ./data\n",
            "Files already downloaded and verified\n"
          ]
        }
      ]
    },
    {
      "cell_type": "code",
      "source": [
        "train_loader = torch.utils.data.DataLoader(train_data, batch_size=4, shuffle=True, num_workers=2)\n",
        "test_loader = torch.utils.data.DataLoader(test_data, batch_size=4, shuffle=False, num_workers=2)"
      ],
      "metadata": {
        "id": "f8iNhh41RYy-"
      },
      "execution_count": null,
      "outputs": []
    },
    {
      "cell_type": "code",
      "source": [
        "image, label = train_data[0]"
      ],
      "metadata": {
        "id": "59PnreT3RYve"
      },
      "execution_count": null,
      "outputs": []
    },
    {
      "cell_type": "code",
      "source": [
        "image.shape"
      ],
      "metadata": {
        "id": "xGX12ypMRrrL",
        "colab": {
          "base_uri": "https://localhost:8080/"
        },
        "outputId": "e7eb02b6-04bb-4a9e-81ba-34124d87ea35"
      },
      "execution_count": null,
      "outputs": [
        {
          "output_type": "execute_result",
          "data": {
            "text/plain": [
              "torch.Size([3, 32, 32])"
            ]
          },
          "metadata": {},
          "execution_count": 6
        }
      ]
    },
    {
      "cell_type": "code",
      "source": [
        "class_names = ['plane', 'car', 'bird', 'cat', 'deer', 'dog', 'frog', 'horse', 'ship', 'truck']"
      ],
      "metadata": {
        "id": "Faf_9d9KRvBi"
      },
      "execution_count": null,
      "outputs": []
    },
    {
      "cell_type": "code",
      "source": [
        "class NeuralNet(nn.Module):\n",
        "  def __init__(self):\n",
        "    super().__init__()\n",
        "\n",
        "    self.conv1 = nn.Conv2d(3, 12, 5) # (12, 28, 28)\n",
        "    self.pool = nn.MaxPool2d(2, 2) # (12, 14, 14)\n",
        "    self.conv2 = nn.Conv2d(12, 24, 5) # (24, 10, 10) -> (24, 5, 5) -> Flatten(24*5*5)\n",
        "    self.fc1 = nn.Linear(24 * 5 * 5, 120)\n",
        "    self.fc2 = nn.Linear(120, 84)\n",
        "    self.fc3 = nn.Linear(84, 10)\n",
        "\n",
        "  def forward(self, x):\n",
        "    x = self.pool(F.relu(self.conv1(x)))\n",
        "    x = self.pool(F.relu(self.conv2(x)))\n",
        "    x = torch.flatten(x, 1)\n",
        "    x = F.relu(self.fc1(x))\n",
        "    x = F.relu(self.fc2(x))\n",
        "    x = self.fc3(x)\n",
        "    return x"
      ],
      "metadata": {
        "id": "SUBBwrhlR24p"
      },
      "execution_count": null,
      "outputs": []
    },
    {
      "cell_type": "code",
      "source": [
        "net = NeuralNet()\n",
        "loss_function = nn.CrossEntropyLoss()\n",
        "optimizer = optim.SGD(net.parameters(), lr=0.001, momentum=0.9)"
      ],
      "metadata": {
        "id": "mV7PklE5TGmh"
      },
      "execution_count": null,
      "outputs": []
    },
    {
      "cell_type": "code",
      "source": [
        "for epoch in range(32):\n",
        "  print(f'Epoch: {epoch}')\n",
        "\n",
        "  running_loss = 0.0\n",
        "  for i, data in enumerate(train_loader):\n",
        "    inputs, labels = data\n",
        "\n",
        "    optimizer.zero_grad()\n",
        "\n",
        "    outputs = net(inputs)\n",
        "    loss = loss_function(outputs, labels)\n",
        "    loss.backward()\n",
        "    optimizer.step()\n",
        "\n",
        "    running_loss += loss.item()\n",
        "\n",
        "  print(f'Loss: {running_loss / len(train_loader)}')"
      ],
      "metadata": {
        "id": "BiuzFtHPTWfy",
        "colab": {
          "base_uri": "https://localhost:8080/"
        },
        "outputId": "f547bff7-dae4-4b3a-da3b-c5290a23d07f"
      },
      "execution_count": null,
      "outputs": [
        {
          "output_type": "stream",
          "name": "stdout",
          "text": [
            "Epoch: 0\n",
            "Loss: 1.6560420803207159\n",
            "Epoch: 1\n",
            "Loss: 1.2450916041195392\n",
            "Epoch: 2\n",
            "Loss: 1.0864098874369263\n",
            "Epoch: 3\n",
            "Loss: 0.9778060414333641\n",
            "Epoch: 4\n",
            "Loss: 0.899499504712969\n",
            "Epoch: 5\n",
            "Loss: 0.83641225784295\n",
            "Epoch: 6\n",
            "Loss: 0.7810519574615267\n",
            "Epoch: 7\n",
            "Loss: 0.733043318966201\n",
            "Epoch: 8\n",
            "Loss: 0.6892662267069845\n",
            "Epoch: 9\n",
            "Loss: 0.6550530498489737\n",
            "Epoch: 10\n",
            "Loss: 0.6222647298683183\n",
            "Epoch: 11\n",
            "Loss: 0.5968580974472454\n",
            "Epoch: 12\n",
            "Loss: 0.5763508282537776\n",
            "Epoch: 13\n",
            "Loss: 0.5453994342619134\n",
            "Epoch: 14\n",
            "Loss: 0.5296987986037007\n",
            "Epoch: 15\n",
            "Loss: 0.5109307186098871\n",
            "Epoch: 16\n",
            "Loss: 0.4929766548344791\n",
            "Epoch: 17\n",
            "Loss: 0.4857164517558086\n",
            "Epoch: 18\n",
            "Loss: 0.46667004325976946\n",
            "Epoch: 19\n",
            "Loss: 0.46930931827220795\n",
            "Epoch: 20\n",
            "Loss: 0.45575498424338234\n",
            "Epoch: 21\n",
            "Loss: 0.4540142018400499\n",
            "Epoch: 22\n",
            "Loss: 0.4424499706206807\n",
            "Epoch: 23\n",
            "Loss: 0.43051646676719174\n",
            "Epoch: 24\n",
            "Loss: 0.43067259686184295\n",
            "Epoch: 25\n",
            "Loss: 0.42711296619608635\n",
            "Epoch: 26\n",
            "Loss: 0.4288386247212842\n",
            "Epoch: 27\n",
            "Loss: 0.4298539037530623\n",
            "Epoch: 28\n",
            "Loss: 0.4262251765757946\n",
            "Epoch: 29\n",
            "Loss: 0.4219223845554689\n"
          ]
        }
      ]
    },
    {
      "cell_type": "code",
      "source": [
        "torch.save(net.state_dict(), './trained_net.pth')"
      ],
      "metadata": {
        "id": "mJmK6TaXTtAd"
      },
      "execution_count": null,
      "outputs": []
    },
    {
      "cell_type": "code",
      "source": [
        "correct = 0\n",
        "wrong = 0\n",
        "total = 0\n",
        "\n",
        "net.eval()\n",
        "with torch.no_grad():\n",
        "  for data in test_loader:\n",
        "    images, labels = data\n",
        "    outputs = net(images)\n",
        "    _, predicted = torch.max(outputs.data, 1)\n",
        "    total += labels.size(0)\n",
        "    correct += (predicted == labels).sum().item()\n",
        "\n",
        "accuracy = 100 * correct / total\n",
        "print(f'Accuracy: {accuracy}%')"
      ],
      "metadata": {
        "id": "gLm1VZNOT9pq",
        "colab": {
          "base_uri": "https://localhost:8080/"
        },
        "outputId": "56a3aa51-cf55-4a2d-83b6-d7aaa208a557"
      },
      "execution_count": null,
      "outputs": [
        {
          "output_type": "stream",
          "name": "stdout",
          "text": [
            "Accuracy: 63.63%\n"
          ]
        }
      ]
    },
    {
      "cell_type": "code",
      "source": [
        "new_transform = transforms.Compose([\n",
        "    transforms.Resize((32, 32)),\n",
        "    transforms.ToTensor(),\n",
        "    transforms.Normalize((0.5, 0.5, 0.5), (0.5, 0.5, 0.5))\n",
        "])\n",
        "\n",
        "def load_image(path):\n",
        "  image = Image.open(path)\n",
        "  image = new_transform(image)\n",
        "  image = image.unsqueeze(0)\n",
        "  return image\n",
        "\n",
        "image_paths = ['/content/example1.jpg', '/content/example2.jpg']\n",
        "images = [load_image(path) for path in image_paths]\n",
        "\n",
        "net.eval()\n",
        "with torch.no_grad():\n",
        "  for image in images:\n",
        "    output = net(image)\n",
        "    _, predicted = torch.max(output.data, 1)\n",
        "    print(f'Predicted class: {class_names[predicted.item()]}')"
      ],
      "metadata": {
        "id": "f88kZxDJUiM5",
        "colab": {
          "base_uri": "https://localhost:8080/"
        },
        "outputId": "df4975b1-9499-4504-e64a-59bd2b8acde6"
      },
      "execution_count": null,
      "outputs": [
        {
          "output_type": "stream",
          "name": "stdout",
          "text": [
            "Predicted class: bird\n",
            "Predicted class: deer\n"
          ]
        }
      ]
    }
  ]
}